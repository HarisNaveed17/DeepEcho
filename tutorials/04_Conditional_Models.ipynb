{
 "cells": [
  {
   "cell_type": "markdown",
   "metadata": {},
   "source": [
    "# Conditional Modeling\n",
    "\n",
    "1. Background\n",
    "   1. What are conditional models?\n",
    "   2. Examples.\n",
    "     1. Relational datasets.\n",
    "     2. Time series classification!\n",
    "2. Dataset\n",
    "   1. Load the time series classification dataset.\n",
    "   2. Show how the different classes have different properties.\n",
    "3. Non-conditional Modeling\n",
    "   1. Train N different models, one for each class.\n",
    "   2. Show the properties of each class are preserved.\n",
    "   3. Show how it's slow, uses a lot of parameters, and requires a lot of memory.\n",
    "4. Conditional Modeling\n",
    "   1. Train the model to generate synthetic sequences conditioned on class.\n",
    "   2. Show the properties of each class are preserved.\n",
    "   3. Show how it's faster, uses fewer parameters, and less memory."
   ]
  },
  {
   "cell_type": "code",
   "execution_count": null,
   "metadata": {},
   "outputs": [],
   "source": [
    "print(\"Coming soon!\")"
   ]
  }
 ],
 "metadata": {
  "kernelspec": {
   "display_name": "Python 3",
   "language": "python",
   "name": "python3"
  },
  "language_info": {
   "codemirror_mode": {
    "name": "ipython",
    "version": 3
   },
   "file_extension": ".py",
   "mimetype": "text/x-python",
   "name": "python",
   "nbconvert_exporter": "python",
   "pygments_lexer": "ipython3",
   "version": "3.8.3"
  }
 },
 "nbformat": 4,
 "nbformat_minor": 4
}
