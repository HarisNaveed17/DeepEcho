{
 "cells": [
  {
   "cell_type": "markdown",
   "metadata": {},
   "source": [
    "# Benchmark Datasets\n",
    "\n",
    "In this guide we will explain the format in which the datasets used by the\n",
    "DeepEcho benchmarking framework are stored, how to use them to test a\n",
    "DeepEcho model and how to create a new dataset with your own data."
   ]
  },
  {
   "cell_type": "markdown",
   "metadata": {},
   "source": [
    "## DeepEcho Input Format\n",
    "\n",
    "DeepEcho models work with time series datasets passed as `pandas.DataFrames` with the\n",
    "following format:\n",
    "\n",
    "### Entities and `entity_id`:\n",
    "\n",
    "* The datasets may contain one or more `entity_columns` that form an `entity_id` that\n",
    "  relates groups of rows to external, abstract, `entities`.\n",
    "* The rows associated with each `entity_id` form a time series sequence, where order\n",
    "  of the rows matters and where inter-row dependencies exist.\n",
    "* However, the rows of different `entities` are completely independent from each other.\n",
    "* If a dataset does not contain `entity_columns`, the complete dataset is interpreted\n",
    "  as a single timeseries sequence.\n",
    "\n",
    "### Context\n",
    "\n",
    "* The datasets may have one or more `context_columns`. `context_columns` are expected\n",
    "  to be constant within each `entity_id`, and they provide contextual information that\n",
    "  conditions the properties of the associated timeseries.\n",
    "* These `context_columns` will be used by DeepEcho models to learn how to generate\n",
    "  timeseries with different properties based on the values of these columns.\n",
    "\n",
    "### Sequence Index\n",
    "\n",
    "* The datasets may contain a `sequence_index` column which indicates the order in which\n",
    "  the rows of each timeseries must be learned.\n",
    "* The `sequence_index` column can be of any type that can be sorted, including numerical\n",
    "  values such as integers or floats, or datetimes.\n",
    "* If the `sequence_index` is not present on a dataset, the rows are assumed to be already\n",
    "  given in the right order.\n",
    "\n",
    "> **NOTE**: It's important to mention that the `sequence_index` column will be only used\n",
    "to sort the rows and then dropped before learning the data, which means that the\n",
    "synthetically generated sequences will not contain this column.\n",
    "\n",
    "### Data Columns\n",
    "\n",
    "* The dataset will contain an arbitrary number of additional columns which can be `numerical`\n",
    "  or `categorical`, and which will be what the models learn to replicate."
   ]
  },
  {
   "cell_type": "markdown",
   "metadata": {},
   "source": [
    "### DeepEcho Benchmark Dataset Format\n",
    "\n",
    "The DeepEcho Benchmark framework is prepared to load datasets containing the\n",
    "information explained above by reading from a folder that contains:\n",
    "\n",
    "* A CSV file with the values from all the required columns, if they exist:\n",
    "    * The `entity_columns`\n",
    "    * The `context_columns`\n",
    "    * The `sequence_index`\n",
    "    * The `data_columns`\n",
    "* A `metadata.json` with the [SDV Metadata]() format, with the following properties:\n",
    "    * A `tables` entry which should contain at least one table in it.\n",
    "    * A `table` entry within the `tables` dictionary, which by default should be named\n",
    "      exactly like the dataset (it can optionally have a different name).\n",
    "    * Within that `table`, there are the following additional entries:\n",
    "        * `path`: Path to the CSV file, relative to the `metadata.json` file\n",
    "          within the dataset folder. In most cases, this is just the CSV file name.\n",
    "        * `entity_columns`: List containing the names of the `entity_columns`.\n",
    "          It can be empty.\n",
    "        * `sequence_index`: Name of the column that acts as the `sequence_index`.\n",
    "          It can be null, or not exist at all.\n",
    "        * `deepecho_version`: Version of the DeepEcho dataset format.\n",
    "        \n",
    "Here is an example of what a very simple `metadata.json` file will look like for a\n",
    "dataset named `my_dataset` with the following columns:\n",
    "\n",
    "* `id`: Column that acts as the `entity_id` for this dataset.\n",
    "* `timestamp`: Column that acts as the `sequence_index` for this dataset.\n",
    "* `float_value`: Float value that we want to replicate.\n",
    "* `categorical_value`: Categorical value that we want to replicate.\n",
    "\n",
    "```json\n",
    "{\n",
    "    \"tables\": {\n",
    "        \"my_dataset\": {\n",
    "            \"path\": \"my_dataset.csv\",\n",
    "            \"fields\": {\n",
    "                \"id\": {\n",
    "                    \"type\": \"numerical\",\n",
    "                    \"subtype\": \"integer\"\n",
    "                },\n",
    "                \"timestamp\": {\n",
    "                    \"type\": \"datetime\"\n",
    "                },\n",
    "                \"float_value\": {\n",
    "                    \"type\": \"numerical\",\n",
    "                    \"subtype\": \"float\"\n",
    "                },\n",
    "                \"categorical_value\": {\n",
    "                    \"type\": \"categorical\"\n",
    "                }\n",
    "            },\n",
    "            \"entity_columns\": [\n",
    "                \"id\"\n",
    "            ],\n",
    "            \"sequence_index\": \"timestamp\",\n",
    "            \"deepecho_version\": \"0.1.1\"\n",
    "        }\n",
    "    }\n",
    "}\n",
    "```"
   ]
  },
  {
   "cell_type": "markdown",
   "metadata": {},
   "source": [
    "### Generating a dataset from a `pandas.DataFrame`\n",
    "\n",
    "The DeepEcho benchmark framework provides a utility function to facilitate the\n",
    "creation of new datasets from `pandas.DataFrames`.\n",
    "\n",
    "Let's try to load the DeepEcho Demo data and store it as a valid dataset."
   ]
  },
  {
   "cell_type": "code",
   "execution_count": 1,
   "metadata": {},
   "outputs": [],
   "source": [
    "from deepecho.demo import load_demo\n",
    "\n",
    "data = load_demo()"
   ]
  },
  {
   "cell_type": "markdown",
   "metadata": {},
   "source": [
    "The output of this call will be the `pandas.DataFrame` that you used if you followed\n",
    "the DeepEcho Quickstart:"
   ]
  },
  {
   "cell_type": "code",
   "execution_count": 2,
   "metadata": {},
   "outputs": [
    {
     "data": {
      "text/html": [
       "<div>\n",
       "<style scoped>\n",
       "    .dataframe tbody tr th:only-of-type {\n",
       "        vertical-align: middle;\n",
       "    }\n",
       "\n",
       "    .dataframe tbody tr th {\n",
       "        vertical-align: top;\n",
       "    }\n",
       "\n",
       "    .dataframe thead th {\n",
       "        text-align: right;\n",
       "    }\n",
       "</style>\n",
       "<table border=\"1\" class=\"dataframe\">\n",
       "  <thead>\n",
       "    <tr style=\"text-align: right;\">\n",
       "      <th></th>\n",
       "      <th>id</th>\n",
       "      <th>season</th>\n",
       "      <th>day_of_week</th>\n",
       "      <th>total_sales</th>\n",
       "      <th>nb_customers</th>\n",
       "    </tr>\n",
       "  </thead>\n",
       "  <tbody>\n",
       "    <tr>\n",
       "      <th>0</th>\n",
       "      <td>0</td>\n",
       "      <td>winter</td>\n",
       "      <td>0</td>\n",
       "      <td>736.192546</td>\n",
       "      <td>43</td>\n",
       "    </tr>\n",
       "    <tr>\n",
       "      <th>1</th>\n",
       "      <td>0</td>\n",
       "      <td>winter</td>\n",
       "      <td>1</td>\n",
       "      <td>777.309789</td>\n",
       "      <td>45</td>\n",
       "    </tr>\n",
       "    <tr>\n",
       "      <th>2</th>\n",
       "      <td>0</td>\n",
       "      <td>winter</td>\n",
       "      <td>2</td>\n",
       "      <td>921.220142</td>\n",
       "      <td>54</td>\n",
       "    </tr>\n",
       "    <tr>\n",
       "      <th>3</th>\n",
       "      <td>0</td>\n",
       "      <td>winter</td>\n",
       "      <td>3</td>\n",
       "      <td>1085.689116</td>\n",
       "      <td>63</td>\n",
       "    </tr>\n",
       "    <tr>\n",
       "      <th>4</th>\n",
       "      <td>0</td>\n",
       "      <td>winter</td>\n",
       "      <td>4</td>\n",
       "      <td>1476.302930</td>\n",
       "      <td>86</td>\n",
       "    </tr>\n",
       "    <tr>\n",
       "      <th>5</th>\n",
       "      <td>0</td>\n",
       "      <td>winter</td>\n",
       "      <td>5</td>\n",
       "      <td>2463.116775</td>\n",
       "      <td>144</td>\n",
       "    </tr>\n",
       "    <tr>\n",
       "      <th>6</th>\n",
       "      <td>0</td>\n",
       "      <td>winter</td>\n",
       "      <td>6</td>\n",
       "      <td>1579.096039</td>\n",
       "      <td>92</td>\n",
       "    </tr>\n",
       "    <tr>\n",
       "      <th>7</th>\n",
       "      <td>1</td>\n",
       "      <td>summer</td>\n",
       "      <td>0</td>\n",
       "      <td>2750.937480</td>\n",
       "      <td>161</td>\n",
       "    </tr>\n",
       "    <tr>\n",
       "      <th>8</th>\n",
       "      <td>1</td>\n",
       "      <td>summer</td>\n",
       "      <td>1</td>\n",
       "      <td>2853.730589</td>\n",
       "      <td>167</td>\n",
       "    </tr>\n",
       "    <tr>\n",
       "      <th>9</th>\n",
       "      <td>1</td>\n",
       "      <td>summer</td>\n",
       "      <td>2</td>\n",
       "      <td>2915.406454</td>\n",
       "      <td>171</td>\n",
       "    </tr>\n",
       "  </tbody>\n",
       "</table>\n",
       "</div>"
      ],
      "text/plain": [
       "   id  season  day_of_week  total_sales  nb_customers\n",
       "0   0  winter            0   736.192546            43\n",
       "1   0  winter            1   777.309789            45\n",
       "2   0  winter            2   921.220142            54\n",
       "3   0  winter            3  1085.689116            63\n",
       "4   0  winter            4  1476.302930            86\n",
       "5   0  winter            5  2463.116775           144\n",
       "6   0  winter            6  1579.096039            92\n",
       "7   1  summer            0  2750.937480           161\n",
       "8   1  summer            1  2853.730589           167\n",
       "9   1  summer            2  2915.406454           171"
      ]
     },
     "execution_count": 2,
     "metadata": {},
     "output_type": "execute_result"
    }
   ],
   "source": [
    "data.head(10)"
   ]
  },
  {
   "cell_type": "markdown",
   "metadata": {},
   "source": [
    "This table has 5 columns:\n",
    "\n",
    "- `id`: Column that acts as `entity_id`.\n",
    "- `season`: Column that acts as `context`.\n",
    "- `day_of_week`, `total_sales` and `nb_customers`: Columns that we want to learn and replicate."
   ]
  },
  {
   "cell_type": "markdown",
   "metadata": {},
   "source": [
    "In order to create a valid DeepEcho Dataset with this data, we can use the\n",
    "`deepecho.benchmark.dataset.make_dataset` function, passing the name of the\n",
    "dataset, the data, the `entity_columns` and the `sequence_index`, which in\n",
    "this case is `None`:\n",
    "\n",
    "Additionally, we can also pass a path to where we want the dataset to be created,\n",
    "which in this case we will pass as `'.'` (which is the default value) to\n",
    "create the dataset in this same folder."
   ]
  },
  {
   "cell_type": "code",
   "execution_count": 3,
   "metadata": {},
   "outputs": [
    {
     "name": "stderr",
     "output_type": "stream",
     "text": [
      "2020-08-14 15:42:58,507 - INFO - deepecho.benchmark.dataset - Dataset Demo generated in folder ./Demo\n"
     ]
    }
   ],
   "source": [
    "from deepecho.benchmark.dataset import make_dataset\n",
    "\n",
    "make_dataset(\n",
    "    name='Demo',\n",
    "    data=data,\n",
    "    entity_columns=['id'],\n",
    "    sequence_index=None,   # This is actually the default value.\n",
    "    datasets_path='.',    # This is actually the default value.\n",
    ")"
   ]
  },
  {
   "cell_type": "markdown",
   "metadata": {},
   "source": [
    "As we can see, the a `Demo` folder has been generated in our current working directory,\n",
    "containing both the `Demo.csv` and `metadata.json` files explained above:"
   ]
  },
  {
   "cell_type": "code",
   "execution_count": 4,
   "metadata": {},
   "outputs": [
    {
     "name": "stdout",
     "output_type": "stream",
     "text": [
      "\u001b[01;34m./Demo\u001b[00m\r\n",
      "├── Demo.csv\r\n",
      "└── metadata.json\r\n",
      "\r\n",
      "0 directories, 2 files\r\n"
     ]
    }
   ],
   "source": [
    "!tree ./Demo"
   ]
  },
  {
   "cell_type": "markdown",
   "metadata": {},
   "source": [
    "And we can see the contents of our `metadata.json` file:"
   ]
  },
  {
   "cell_type": "code",
   "execution_count": 5,
   "metadata": {},
   "outputs": [
    {
     "name": "stdout",
     "output_type": "stream",
     "text": [
      "{\r\n",
      "    \"tables\": {\r\n",
      "        \"Demo\": {\r\n",
      "            \"fields\": {\r\n",
      "                \"nb_customers\": {\r\n",
      "                    \"type\": \"numerical\",\r\n",
      "                    \"subtype\": \"integer\"\r\n",
      "                },\r\n",
      "                \"total_sales\": {\r\n",
      "                    \"type\": \"numerical\",\r\n",
      "                    \"subtype\": \"float\"\r\n",
      "                },\r\n",
      "                \"day_of_week\": {\r\n",
      "                    \"type\": \"numerical\",\r\n",
      "                    \"subtype\": \"integer\"\r\n",
      "                },\r\n",
      "                \"season\": {\r\n",
      "                    \"type\": \"categorical\"\r\n",
      "                },\r\n",
      "                \"id\": {\r\n",
      "                    \"type\": \"numerical\",\r\n",
      "                    \"subtype\": \"integer\"\r\n",
      "                }\r\n",
      "            },\r\n",
      "            \"path\": \"Demo.csv\",\r\n",
      "            \"entity_columns\": [\r\n",
      "                \"id\"\r\n",
      "            ],\r\n",
      "            \"sequence_index\": null,\r\n",
      "            \"deepecho_version\": \"0.1.1\"\r\n",
      "        }\r\n",
      "    }\r\n",
      "}"
     ]
    }
   ],
   "source": [
    "!cat ./Demo/metadata.json"
   ]
  },
  {
   "cell_type": "markdown",
   "metadata": {},
   "source": [
    "## The `Dataset` class\n",
    "\n",
    "The DeepEcho benchmark framework also provides a class `Dataset` to load\n",
    "and work with datasets stored in the format explained above."
   ]
  },
  {
   "cell_type": "markdown",
   "metadata": {},
   "source": [
    "In order to load the dataset that we just created all we need to do is create an instance\n",
    "of the class `deepecho.benchmark.Dataset` passing the path to the datset folder."
   ]
  },
  {
   "cell_type": "code",
   "execution_count": 6,
   "metadata": {},
   "outputs": [
    {
     "name": "stderr",
     "output_type": "stream",
     "text": [
      "2020-08-14 15:43:02,035 - INFO - sdv.metadata - Loading table Demo\n"
     ]
    }
   ],
   "source": [
    "from deepecho.benchmark import Dataset\n",
    "\n",
    "dataset = Dataset('./Demo')"
   ]
  },
  {
   "cell_type": "markdown",
   "metadata": {},
   "source": [
    "This will load the data and its properties and have it ready to use by DeepEcho\n",
    "in the following attributes:\n",
    "\n",
    "- `data`: The table data, loaded and ready to be learned.\n",
    "- `entity_columns`: The names of the entity columns of this dataset.\n",
    "- `context_columns`: The names of the context columns of this dataset.\n",
    "- `sequence_index`: The names of the sequence index of this dataset.\n",
    "- `model_columns`: The names of the columns that will be learned."
   ]
  },
  {
   "cell_type": "code",
   "execution_count": 7,
   "metadata": {},
   "outputs": [
    {
     "data": {
      "text/plain": [
       "Dataset('Demo')"
      ]
     },
     "execution_count": 7,
     "metadata": {},
     "output_type": "execute_result"
    }
   ],
   "source": [
    "dataset"
   ]
  },
  {
   "cell_type": "code",
   "execution_count": 8,
   "metadata": {},
   "outputs": [
    {
     "data": {
      "text/html": [
       "<div>\n",
       "<style scoped>\n",
       "    .dataframe tbody tr th:only-of-type {\n",
       "        vertical-align: middle;\n",
       "    }\n",
       "\n",
       "    .dataframe tbody tr th {\n",
       "        vertical-align: top;\n",
       "    }\n",
       "\n",
       "    .dataframe thead th {\n",
       "        text-align: right;\n",
       "    }\n",
       "</style>\n",
       "<table border=\"1\" class=\"dataframe\">\n",
       "  <thead>\n",
       "    <tr style=\"text-align: right;\">\n",
       "      <th></th>\n",
       "      <th>nb_customers</th>\n",
       "      <th>total_sales</th>\n",
       "      <th>day_of_week</th>\n",
       "      <th>season</th>\n",
       "      <th>id</th>\n",
       "    </tr>\n",
       "  </thead>\n",
       "  <tbody>\n",
       "    <tr>\n",
       "      <th>0</th>\n",
       "      <td>43</td>\n",
       "      <td>736.192546</td>\n",
       "      <td>0</td>\n",
       "      <td>winter</td>\n",
       "      <td>0</td>\n",
       "    </tr>\n",
       "    <tr>\n",
       "      <th>1</th>\n",
       "      <td>45</td>\n",
       "      <td>777.309789</td>\n",
       "      <td>1</td>\n",
       "      <td>winter</td>\n",
       "      <td>0</td>\n",
       "    </tr>\n",
       "    <tr>\n",
       "      <th>2</th>\n",
       "      <td>54</td>\n",
       "      <td>921.220142</td>\n",
       "      <td>2</td>\n",
       "      <td>winter</td>\n",
       "      <td>0</td>\n",
       "    </tr>\n",
       "    <tr>\n",
       "      <th>3</th>\n",
       "      <td>63</td>\n",
       "      <td>1085.689116</td>\n",
       "      <td>3</td>\n",
       "      <td>winter</td>\n",
       "      <td>0</td>\n",
       "    </tr>\n",
       "    <tr>\n",
       "      <th>4</th>\n",
       "      <td>86</td>\n",
       "      <td>1476.302930</td>\n",
       "      <td>4</td>\n",
       "      <td>winter</td>\n",
       "      <td>0</td>\n",
       "    </tr>\n",
       "  </tbody>\n",
       "</table>\n",
       "</div>"
      ],
      "text/plain": [
       "   nb_customers  total_sales  day_of_week  season  id\n",
       "0            43   736.192546            0  winter   0\n",
       "1            45   777.309789            1  winter   0\n",
       "2            54   921.220142            2  winter   0\n",
       "3            63  1085.689116            3  winter   0\n",
       "4            86  1476.302930            4  winter   0"
      ]
     },
     "execution_count": 8,
     "metadata": {},
     "output_type": "execute_result"
    }
   ],
   "source": [
    "dataset.data.head()"
   ]
  },
  {
   "cell_type": "code",
   "execution_count": 9,
   "metadata": {},
   "outputs": [
    {
     "data": {
      "text/plain": [
       "['id']"
      ]
     },
     "execution_count": 9,
     "metadata": {},
     "output_type": "execute_result"
    }
   ],
   "source": [
    "dataset.entity_columns"
   ]
  },
  {
   "cell_type": "code",
   "execution_count": 10,
   "metadata": {},
   "outputs": [
    {
     "data": {
      "text/plain": [
       "['season']"
      ]
     },
     "execution_count": 10,
     "metadata": {},
     "output_type": "execute_result"
    }
   ],
   "source": [
    "dataset.context_columns"
   ]
  },
  {
   "cell_type": "code",
   "execution_count": 11,
   "metadata": {},
   "outputs": [],
   "source": [
    "dataset.sequence_index"
   ]
  },
  {
   "cell_type": "code",
   "execution_count": 12,
   "metadata": {},
   "outputs": [
    {
     "data": {
      "text/plain": [
       "['nb_customers', 'total_sales', 'day_of_week']"
      ]
     },
     "execution_count": 12,
     "metadata": {},
     "output_type": "execute_result"
    }
   ],
   "source": [
    "dataset.model_columns"
   ]
  },
  {
   "cell_type": "markdown",
   "metadata": {},
   "source": [
    "Additionally, it provides a `describe` method that will return some\n",
    "basic information about the dataset characteristics."
   ]
  },
  {
   "cell_type": "code",
   "execution_count": 13,
   "metadata": {
    "scrolled": true
   },
   "outputs": [
    {
     "data": {
      "text/plain": [
       "entities            100\n",
       "entity_columns        1\n",
       "context_columns       1\n",
       "model_columns         3\n",
       "max_sequence_len      7\n",
       "min_sequence_len      7\n",
       "dtype: int64"
      ]
     },
     "execution_count": 13,
     "metadata": {},
     "output_type": "execute_result"
    }
   ],
   "source": [
    "dataset.describe()"
   ]
  },
  {
   "cell_type": "markdown",
   "metadata": {},
   "source": [
    "## Loading the DeepEcho datasets\n",
    "\n",
    "The DeepEcho benchmark framwork has a collection of datasets which are used\n",
    "to evaluate the DeepEcho models at every release.\n",
    "\n",
    "You can see the complete list of datasets and their properties by calling the\n",
    "`get_datasets_list` function:"
   ]
  },
  {
   "cell_type": "code",
   "execution_count": 14,
   "metadata": {},
   "outputs": [
    {
     "data": {
      "text/html": [
       "<div>\n",
       "<style scoped>\n",
       "    .dataframe tbody tr th:only-of-type {\n",
       "        vertical-align: middle;\n",
       "    }\n",
       "\n",
       "    .dataframe tbody tr th {\n",
       "        vertical-align: top;\n",
       "    }\n",
       "\n",
       "    .dataframe thead th {\n",
       "        text-align: right;\n",
       "    }\n",
       "</style>\n",
       "<table border=\"1\" class=\"dataframe\">\n",
       "  <thead>\n",
       "    <tr style=\"text-align: right;\">\n",
       "      <th></th>\n",
       "      <th>dataset</th>\n",
       "      <th>size_in_kb</th>\n",
       "      <th>entities</th>\n",
       "      <th>entity_columns</th>\n",
       "      <th>context_columns</th>\n",
       "      <th>data_columns</th>\n",
       "      <th>max_sequence_len</th>\n",
       "      <th>min_sequence_len</th>\n",
       "    </tr>\n",
       "  </thead>\n",
       "  <tbody>\n",
       "    <tr>\n",
       "      <th>0</th>\n",
       "      <td>Libras</td>\n",
       "      <td>108739</td>\n",
       "      <td>360</td>\n",
       "      <td>1</td>\n",
       "      <td>1</td>\n",
       "      <td>4</td>\n",
       "      <td>45</td>\n",
       "      <td>45</td>\n",
       "    </tr>\n",
       "    <tr>\n",
       "      <th>1</th>\n",
       "      <td>AtrialFibrillation</td>\n",
       "      <td>111019</td>\n",
       "      <td>30</td>\n",
       "      <td>1</td>\n",
       "      <td>1</td>\n",
       "      <td>4</td>\n",
       "      <td>640</td>\n",
       "      <td>640</td>\n",
       "    </tr>\n",
       "    <tr>\n",
       "      <th>2</th>\n",
       "      <td>BasicMotions</td>\n",
       "      <td>196062</td>\n",
       "      <td>80</td>\n",
       "      <td>1</td>\n",
       "      <td>1</td>\n",
       "      <td>8</td>\n",
       "      <td>100</td>\n",
       "      <td>100</td>\n",
       "    </tr>\n",
       "    <tr>\n",
       "      <th>3</th>\n",
       "      <td>ERing</td>\n",
       "      <td>223502</td>\n",
       "      <td>300</td>\n",
       "      <td>1</td>\n",
       "      <td>1</td>\n",
       "      <td>6</td>\n",
       "      <td>65</td>\n",
       "      <td>65</td>\n",
       "    </tr>\n",
       "    <tr>\n",
       "      <th>4</th>\n",
       "      <td>RacketSports</td>\n",
       "      <td>235392</td>\n",
       "      <td>303</td>\n",
       "      <td>1</td>\n",
       "      <td>1</td>\n",
       "      <td>8</td>\n",
       "      <td>30</td>\n",
       "      <td>30</td>\n",
       "    </tr>\n",
       "  </tbody>\n",
       "</table>\n",
       "</div>"
      ],
      "text/plain": [
       "              dataset  size_in_kb  entities  entity_columns  context_columns  \\\n",
       "0              Libras      108739       360               1                1   \n",
       "1  AtrialFibrillation      111019        30               1                1   \n",
       "2        BasicMotions      196062        80               1                1   \n",
       "3               ERing      223502       300               1                1   \n",
       "4        RacketSports      235392       303               1                1   \n",
       "\n",
       "   data_columns  max_sequence_len  min_sequence_len  \n",
       "0             4                45                45  \n",
       "1             4               640               640  \n",
       "2             8               100               100  \n",
       "3             6                65                65  \n",
       "4             8                30                30  "
      ]
     },
     "execution_count": 14,
     "metadata": {},
     "output_type": "execute_result"
    }
   ],
   "source": [
    "from deepecho.benchmark import get_datasets_list\n",
    "\n",
    "get_datasets_list().head()"
   ]
  },
  {
   "cell_type": "markdown",
   "metadata": {},
   "source": [
    "These datsets can easily be loaded using our `Dataset` class by simply passing their\n",
    "name to it.\n",
    "\n",
    "Let's load the first dataset from the list, `Libras`:"
   ]
  },
  {
   "cell_type": "code",
   "execution_count": 15,
   "metadata": {},
   "outputs": [
    {
     "name": "stderr",
     "output_type": "stream",
     "text": [
      "2020-08-14 15:43:19,071 - INFO - deepecho.benchmark.dataset - Downloading dataset Libras from http://deepecho-data.s3.amazonaws.com/Libras_v0.1.1.zip\n",
      "2020-08-14 15:43:19,746 - INFO - sdv.metadata - Loading table Libras\n"
     ]
    }
   ],
   "source": [
    "libras = Dataset('Libras')"
   ]
  },
  {
   "cell_type": "code",
   "execution_count": 16,
   "metadata": {},
   "outputs": [
    {
     "data": {
      "text/plain": [
       "entities            360\n",
       "entity_columns        1\n",
       "context_columns       1\n",
       "model_columns         2\n",
       "max_sequence_len     45\n",
       "min_sequence_len     45\n",
       "dtype: int64"
      ]
     },
     "execution_count": 16,
     "metadata": {},
     "output_type": "execute_result"
    }
   ],
   "source": [
    "libras.describe()"
   ]
  },
  {
   "cell_type": "code",
   "execution_count": 17,
   "metadata": {},
   "outputs": [
    {
     "data": {
      "text/html": [
       "<div>\n",
       "<style scoped>\n",
       "    .dataframe tbody tr th:only-of-type {\n",
       "        vertical-align: middle;\n",
       "    }\n",
       "\n",
       "    .dataframe tbody tr th {\n",
       "        vertical-align: top;\n",
       "    }\n",
       "\n",
       "    .dataframe thead th {\n",
       "        text-align: right;\n",
       "    }\n",
       "</style>\n",
       "<table border=\"1\" class=\"dataframe\">\n",
       "  <thead>\n",
       "    <tr style=\"text-align: right;\">\n",
       "      <th></th>\n",
       "      <th>e_id</th>\n",
       "      <th>dim_0</th>\n",
       "      <th>dim_1</th>\n",
       "      <th>ml_class</th>\n",
       "    </tr>\n",
       "  </thead>\n",
       "  <tbody>\n",
       "    <tr>\n",
       "      <th>0</th>\n",
       "      <td>0</td>\n",
       "      <td>0.67892</td>\n",
       "      <td>0.27315</td>\n",
       "      <td>1</td>\n",
       "    </tr>\n",
       "    <tr>\n",
       "      <th>1</th>\n",
       "      <td>0</td>\n",
       "      <td>0.68085</td>\n",
       "      <td>0.27315</td>\n",
       "      <td>1</td>\n",
       "    </tr>\n",
       "    <tr>\n",
       "      <th>2</th>\n",
       "      <td>0</td>\n",
       "      <td>0.68085</td>\n",
       "      <td>0.27315</td>\n",
       "      <td>1</td>\n",
       "    </tr>\n",
       "    <tr>\n",
       "      <th>3</th>\n",
       "      <td>0</td>\n",
       "      <td>0.68085</td>\n",
       "      <td>0.27315</td>\n",
       "      <td>1</td>\n",
       "    </tr>\n",
       "    <tr>\n",
       "      <th>4</th>\n",
       "      <td>0</td>\n",
       "      <td>0.67892</td>\n",
       "      <td>0.26852</td>\n",
       "      <td>1</td>\n",
       "    </tr>\n",
       "  </tbody>\n",
       "</table>\n",
       "</div>"
      ],
      "text/plain": [
       "   e_id    dim_0    dim_1 ml_class\n",
       "0     0  0.67892  0.27315        1\n",
       "1     0  0.68085  0.27315        1\n",
       "2     0  0.68085  0.27315        1\n",
       "3     0  0.68085  0.27315        1\n",
       "4     0  0.67892  0.26852        1"
      ]
     },
     "execution_count": 17,
     "metadata": {},
     "output_type": "execute_result"
    }
   ],
   "source": [
    "libras.data.head()"
   ]
  },
  {
   "cell_type": "markdown",
   "metadata": {},
   "source": [
    "## Using a `Dataset` with `DeepEcho`.\n",
    "\n",
    "Once we have loaded a `dataset` instance, we can use a DeepEcho model\n",
    "to learn it and generate synthetic versions of it.\n",
    "\n",
    "Let's try to use the `PARModel` class on the `Libras` dataset that we just loaded.\n",
    "\n",
    "In order to do this, we will first need to create an instance of the model\n",
    "with the desired hyperparameters."
   ]
  },
  {
   "cell_type": "code",
   "execution_count": 18,
   "metadata": {},
   "outputs": [
    {
     "name": "stderr",
     "output_type": "stream",
     "text": [
      "2020-08-14 15:43:25,172 - INFO - deepecho.par - PARModel(epochs=512, max_seq_len=100, sample_size=1, cuda='cuda', verbose=True) instance created\n"
     ]
    },
    {
     "name": "stdout",
     "output_type": "stream",
     "text": [
      "PARModel(epochs=512, max_seq_len=100, sample_size=1, cuda='cuda', verbose=True) instance created\n"
     ]
    }
   ],
   "source": [
    "from deepecho import PARModel\n",
    "\n",
    "model = PARModel(epochs=512)"
   ]
  },
  {
   "cell_type": "markdown",
   "metadata": {},
   "source": [
    "And then we can fit the model by passing the `data`, the `entity_columns`,\n",
    "the `context_columns` and the `sequence_index` from our `dataset."
   ]
  },
  {
   "cell_type": "code",
   "execution_count": 19,
   "metadata": {},
   "outputs": [
    {
     "name": "stderr",
     "output_type": "stream",
     "text": [
      "Epoch 512 | Loss -0.06642289459705353: 100%|██████████| 512/512 [05:32<00:00,  1.54it/s]  \n"
     ]
    }
   ],
   "source": [
    "model.fit(\n",
    "    libras.data,\n",
    "    entity_columns=libras.entity_columns,\n",
    "    context_columns=libras.context_columns,\n",
    "    sequence_index=libras.sequence_index\n",
    ")"
   ]
  },
  {
   "cell_type": "markdown",
   "metadata": {},
   "source": [
    "And finally create new versions of our dataset:"
   ]
  },
  {
   "cell_type": "code",
   "execution_count": 20,
   "metadata": {},
   "outputs": [
    {
     "name": "stderr",
     "output_type": "stream",
     "text": [
      "100%|██████████| 5/5 [00:00<00:00, 10.84it/s]\n"
     ]
    }
   ],
   "source": [
    "sampled = model.sample(num_entities=5)"
   ]
  },
  {
   "cell_type": "code",
   "execution_count": 21,
   "metadata": {},
   "outputs": [
    {
     "data": {
      "text/html": [
       "<div>\n",
       "<style scoped>\n",
       "    .dataframe tbody tr th:only-of-type {\n",
       "        vertical-align: middle;\n",
       "    }\n",
       "\n",
       "    .dataframe tbody tr th {\n",
       "        vertical-align: top;\n",
       "    }\n",
       "\n",
       "    .dataframe thead th {\n",
       "        text-align: right;\n",
       "    }\n",
       "</style>\n",
       "<table border=\"1\" class=\"dataframe\">\n",
       "  <thead>\n",
       "    <tr style=\"text-align: right;\">\n",
       "      <th></th>\n",
       "      <th>e_id</th>\n",
       "      <th>dim_0</th>\n",
       "      <th>dim_1</th>\n",
       "      <th>ml_class</th>\n",
       "    </tr>\n",
       "  </thead>\n",
       "  <tbody>\n",
       "    <tr>\n",
       "      <th>0</th>\n",
       "      <td>0.0</td>\n",
       "      <td>NaN</td>\n",
       "      <td>0.808394</td>\n",
       "      <td>9</td>\n",
       "    </tr>\n",
       "    <tr>\n",
       "      <th>1</th>\n",
       "      <td>0.0</td>\n",
       "      <td>0.452329</td>\n",
       "      <td>0.672987</td>\n",
       "      <td>9</td>\n",
       "    </tr>\n",
       "    <tr>\n",
       "      <th>2</th>\n",
       "      <td>0.0</td>\n",
       "      <td>0.425964</td>\n",
       "      <td>0.579815</td>\n",
       "      <td>9</td>\n",
       "    </tr>\n",
       "    <tr>\n",
       "      <th>3</th>\n",
       "      <td>0.0</td>\n",
       "      <td>0.403935</td>\n",
       "      <td>0.528071</td>\n",
       "      <td>9</td>\n",
       "    </tr>\n",
       "    <tr>\n",
       "      <th>4</th>\n",
       "      <td>0.0</td>\n",
       "      <td>0.408310</td>\n",
       "      <td>0.499602</td>\n",
       "      <td>9</td>\n",
       "    </tr>\n",
       "  </tbody>\n",
       "</table>\n",
       "</div>"
      ],
      "text/plain": [
       "   e_id     dim_0     dim_1 ml_class\n",
       "0   0.0       NaN  0.808394        9\n",
       "1   0.0  0.452329  0.672987        9\n",
       "2   0.0  0.425964  0.579815        9\n",
       "3   0.0  0.403935  0.528071        9\n",
       "4   0.0  0.408310  0.499602        9"
      ]
     },
     "execution_count": 21,
     "metadata": {},
     "output_type": "execute_result"
    }
   ],
   "source": [
    "sampled.head()"
   ]
  }
 ],
 "metadata": {
  "kernelspec": {
   "display_name": "Python 3",
   "language": "python",
   "name": "python3"
  },
  "language_info": {
   "codemirror_mode": {
    "name": "ipython",
    "version": 3
   },
   "file_extension": ".py",
   "mimetype": "text/x-python",
   "name": "python",
   "nbconvert_exporter": "python",
   "pygments_lexer": "ipython3",
   "version": "3.6.9"
  }
 },
 "nbformat": 4,
 "nbformat_minor": 4
}
